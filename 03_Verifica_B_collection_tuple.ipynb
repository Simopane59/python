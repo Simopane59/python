{
  "nbformat": 4,
  "nbformat_minor": 0,
  "metadata": {
    "colab": {
      "provenance": []
    },
    "kernelspec": {
      "name": "python3",
      "display_name": "Python 3"
    },
    "language_info": {
      "name": "python"
    }
  },
  "cells": [
    {
      "cell_type": "markdown",
      "source": [
        "# Esercizio n. 1 - Vendite di ogni reparto\n",
        "\n",
        "Supponiamo di avere una tupla contenente i dati delle vendite  mensili suddivise per reparto\n",
        "Ogni voce nella tupla è strutturata nel seguente modo:\n"
      ],
      "metadata": {
        "id": "kLhZw8PksOgi"
      }
    },
    {
      "cell_type": "code",
      "source": [
        "(\"reparto\", [(\"mese1\", valore1),(\"mese2\", valore2), ..])"
      ],
      "metadata": {
        "id": "o3SO9HqJre7M"
      },
      "execution_count": null,
      "outputs": []
    },
    {
      "cell_type": "markdown",
      "source": [
        "Dove :\n",
        "\n",
        "*   \"reparto\" rappresenta il nome del reparto\n",
        "*   \"meseX\" indica il mese di riferimento\n",
        "*   \"valoreX\" indica l' ammontare delle vendite del meseX.\n",
        "Si potrebbe verificare la situazione N/D (indica valore non disponibile)\n",
        "\n",
        "\n",
        "\n",
        "\n",
        "\n"
      ],
      "metadata": {
        "id": "6fOTZNr_ueSQ"
      }
    },
    {
      "cell_type": "markdown",
      "source": [
        "Per calcolare l'ammontare medio delle vendite di un reparto definisci una funzione che riceva come parametro il nome del reparto e restituisca una tupla con questa struttura (ImpMedio,(valoreMax,meseMax),(valoreMin,meseMin)). Dove meseMax e meseMin sono i mesi in cui si sono registrate le vendite maggiori e le vendite  minori.\n",
        "**N.B*:** Nel calcolo della media non includere i mesi per i quale non risulta disponibile il valore.\n",
        "\n",
        "Ad esempio: (\"repartoA\", [(\"gennaio\", \"N/D\"), (\"febbraio\", 20000), ... , (\"Dicembre\",23000)])\n",
        "\n",
        "La media andrà calcolata su 11 mesi e non su 12.\n",
        "\n",
        "**N.B:**Prevedere la possibilità che la tupla ritornata sia vuota\n",
        "\n"
      ],
      "metadata": {
        "id": "Ui5lzq_OtqgD"
      }
    },
    {
      "cell_type": "markdown",
      "source": [
        "##Esercizio n.2 -  Rilevazioni pluviometriche\n",
        "\n",
        "Nella tupla_pluviometrica sono memorizzate le rilevazioni pluviometriche di alcune città lombarde. Per ogni rilevazione si riporta: città, provincia, anno,mese e  valore (quantitativo di pioggia in mm).\n",
        "Utilizzare le funzioni predefinite sum,min,max per le liste."
      ],
      "metadata": {
        "id": "ZouP0l7iveiU"
      }
    },
    {
      "cell_type": "code",
      "source": [
        "tupla_pluviometrica = (\n",
        "                      ((\"Vittuone\",\"Milano\"),(2022, (\"gennaio\",20))),\n",
        "                      ((\"Vittuone\",\"Milano\"),(2023, (\"marzo\",80))),\n",
        "                      ((\"Vittuone\",\"Milano\"),(2023, (\"aprile\",60))),\n",
        "                      ((\"Vittuone\",\"Milano\"),(2023, (\"maggio\",80))),\n",
        "                      ((\"Vittuone\",\"Milano\"),(2023, (\"luglio\",30))),\n",
        "                      ((\"Vittuone\",\"Milano\"),(2023, (\"agosto\",\"N/D\"))),\n",
        "                      ((\"Varenna\",\"Lecco\"),(2023, (\"luglio\",150))),\n",
        "                      ((\"Morbegno\",\"Sondrio\"),(2023, (\"luglio\",165)))\n",
        "                      )\n"
      ],
      "metadata": {
        "id": "h4vZdH8jZIdB"
      },
      "execution_count": null,
      "outputs": []
    },
    {
      "cell_type": "markdown",
      "source": [
        "\n",
        "Richieste:\n",
        "\n",
        "1. Definire una funzione chiamata **media_globale** che accetti come parametro la tupla delle rilevazioni pluviometriche e restituisca il quantitativo medio di pioggia rilevata nell'anno 2023.\n",
        "\n",
        "2. Definire una funzione chiamata **media** che accetti come parametri la tupla delle rilevazioni pluviometriche, la provincia e il mese di riferimento e restituisca il quantitativo medio di pioggia rilevata.\n",
        "\n",
        "3. Definire una funzione chiamata **pioggiaMax** che restituisca una tupla contenente  la città  e il mese (o i mesi ) più piovoso/i della provincia di Milano.\n",
        "\n",
        "4. Definire una funzione chiamata **pioggiaMin** che restituisca una tupla contenente il mese con minor precipitazioni.\n",
        "\n",
        "5. Definire una funzione chiamata **provinciaPer** che restituisca una tupla contenente la percentuale delle precipitazioni per provincia rispetto al totale.\n",
        "\n",
        "6. Prevedere un menu di scelta."
      ],
      "metadata": {
        "id": "bdaEtz1jmc7c"
      }
    }
  ]
}